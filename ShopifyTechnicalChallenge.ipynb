{
 "cells": [
  {
   "cell_type": "markdown",
   "id": "9381a2a4",
   "metadata": {},
   "source": [
    "<h1><center>Shopify Technical Challenge Summer 2022</center></h1>\n",
    "<h2><center>By: Janice Xu :) </center></h2>"
   ]
  },
  {
   "cell_type": "markdown",
   "id": "f4f8b7fa",
   "metadata": {},
   "source": [
    "<h2>Question 1 </h2>\n",
    "Before jumping into hypothesizing conclusions, we must first look at the data we have."
   ]
  },
  {
   "cell_type": "markdown",
   "id": "1459b946",
   "metadata": {},
   "source": [
    "<h3>Importing Libraries and Data</h3>"
   ]
  },
  {
   "cell_type": "code",
   "execution_count": 5,
   "id": "233ecaf9",
   "metadata": {},
   "outputs": [],
   "source": [
    "import pandas as pd\n",
    "import seaborn as sns"
   ]
  },
  {
   "cell_type": "code",
   "execution_count": 7,
   "id": "b16b89e3",
   "metadata": {},
   "outputs": [
    {
     "data": {
      "text/html": [
       "<div>\n",
       "<style scoped>\n",
       "    .dataframe tbody tr th:only-of-type {\n",
       "        vertical-align: middle;\n",
       "    }\n",
       "\n",
       "    .dataframe tbody tr th {\n",
       "        vertical-align: top;\n",
       "    }\n",
       "\n",
       "    .dataframe thead th {\n",
       "        text-align: right;\n",
       "    }\n",
       "</style>\n",
       "<table border=\"1\" class=\"dataframe\">\n",
       "  <thead>\n",
       "    <tr style=\"text-align: right;\">\n",
       "      <th></th>\n",
       "      <th>order_id</th>\n",
       "      <th>shop_id</th>\n",
       "      <th>user_id</th>\n",
       "      <th>order_amount</th>\n",
       "      <th>total_items</th>\n",
       "      <th>payment_method</th>\n",
       "      <th>created_at</th>\n",
       "    </tr>\n",
       "  </thead>\n",
       "  <tbody>\n",
       "    <tr>\n",
       "      <th>0</th>\n",
       "      <td>1</td>\n",
       "      <td>53</td>\n",
       "      <td>746</td>\n",
       "      <td>224</td>\n",
       "      <td>2</td>\n",
       "      <td>cash</td>\n",
       "      <td>2017-03-13 12:36:56</td>\n",
       "    </tr>\n",
       "    <tr>\n",
       "      <th>1</th>\n",
       "      <td>2</td>\n",
       "      <td>92</td>\n",
       "      <td>925</td>\n",
       "      <td>90</td>\n",
       "      <td>1</td>\n",
       "      <td>cash</td>\n",
       "      <td>2017-03-03 17:38:52</td>\n",
       "    </tr>\n",
       "    <tr>\n",
       "      <th>2</th>\n",
       "      <td>3</td>\n",
       "      <td>44</td>\n",
       "      <td>861</td>\n",
       "      <td>144</td>\n",
       "      <td>1</td>\n",
       "      <td>cash</td>\n",
       "      <td>2017-03-14 4:23:56</td>\n",
       "    </tr>\n",
       "    <tr>\n",
       "      <th>3</th>\n",
       "      <td>4</td>\n",
       "      <td>18</td>\n",
       "      <td>935</td>\n",
       "      <td>156</td>\n",
       "      <td>1</td>\n",
       "      <td>credit_card</td>\n",
       "      <td>2017-03-26 12:43:37</td>\n",
       "    </tr>\n",
       "    <tr>\n",
       "      <th>4</th>\n",
       "      <td>5</td>\n",
       "      <td>18</td>\n",
       "      <td>883</td>\n",
       "      <td>156</td>\n",
       "      <td>1</td>\n",
       "      <td>credit_card</td>\n",
       "      <td>2017-03-01 4:35:11</td>\n",
       "    </tr>\n",
       "    <tr>\n",
       "      <th>...</th>\n",
       "      <td>...</td>\n",
       "      <td>...</td>\n",
       "      <td>...</td>\n",
       "      <td>...</td>\n",
       "      <td>...</td>\n",
       "      <td>...</td>\n",
       "      <td>...</td>\n",
       "    </tr>\n",
       "    <tr>\n",
       "      <th>4995</th>\n",
       "      <td>4996</td>\n",
       "      <td>73</td>\n",
       "      <td>993</td>\n",
       "      <td>330</td>\n",
       "      <td>2</td>\n",
       "      <td>debit</td>\n",
       "      <td>2017-03-30 13:47:17</td>\n",
       "    </tr>\n",
       "    <tr>\n",
       "      <th>4996</th>\n",
       "      <td>4997</td>\n",
       "      <td>48</td>\n",
       "      <td>789</td>\n",
       "      <td>234</td>\n",
       "      <td>2</td>\n",
       "      <td>cash</td>\n",
       "      <td>2017-03-16 20:36:16</td>\n",
       "    </tr>\n",
       "    <tr>\n",
       "      <th>4997</th>\n",
       "      <td>4998</td>\n",
       "      <td>56</td>\n",
       "      <td>867</td>\n",
       "      <td>351</td>\n",
       "      <td>3</td>\n",
       "      <td>cash</td>\n",
       "      <td>2017-03-19 5:42:42</td>\n",
       "    </tr>\n",
       "    <tr>\n",
       "      <th>4998</th>\n",
       "      <td>4999</td>\n",
       "      <td>60</td>\n",
       "      <td>825</td>\n",
       "      <td>354</td>\n",
       "      <td>2</td>\n",
       "      <td>credit_card</td>\n",
       "      <td>2017-03-16 14:51:18</td>\n",
       "    </tr>\n",
       "    <tr>\n",
       "      <th>4999</th>\n",
       "      <td>5000</td>\n",
       "      <td>44</td>\n",
       "      <td>734</td>\n",
       "      <td>288</td>\n",
       "      <td>2</td>\n",
       "      <td>debit</td>\n",
       "      <td>2017-03-18 15:48:18</td>\n",
       "    </tr>\n",
       "  </tbody>\n",
       "</table>\n",
       "<p>5000 rows × 7 columns</p>\n",
       "</div>"
      ],
      "text/plain": [
       "      order_id  shop_id  user_id  order_amount  total_items payment_method  \\\n",
       "0            1       53      746           224            2           cash   \n",
       "1            2       92      925            90            1           cash   \n",
       "2            3       44      861           144            1           cash   \n",
       "3            4       18      935           156            1    credit_card   \n",
       "4            5       18      883           156            1    credit_card   \n",
       "...        ...      ...      ...           ...          ...            ...   \n",
       "4995      4996       73      993           330            2          debit   \n",
       "4996      4997       48      789           234            2           cash   \n",
       "4997      4998       56      867           351            3           cash   \n",
       "4998      4999       60      825           354            2    credit_card   \n",
       "4999      5000       44      734           288            2          debit   \n",
       "\n",
       "               created_at  \n",
       "0     2017-03-13 12:36:56  \n",
       "1     2017-03-03 17:38:52  \n",
       "2      2017-03-14 4:23:56  \n",
       "3     2017-03-26 12:43:37  \n",
       "4      2017-03-01 4:35:11  \n",
       "...                   ...  \n",
       "4995  2017-03-30 13:47:17  \n",
       "4996  2017-03-16 20:36:16  \n",
       "4997   2017-03-19 5:42:42  \n",
       "4998  2017-03-16 14:51:18  \n",
       "4999  2017-03-18 15:48:18  \n",
       "\n",
       "[5000 rows x 7 columns]"
      ]
     },
     "execution_count": 7,
     "metadata": {},
     "output_type": "execute_result"
    }
   ],
   "source": [
    "# Importing data\n",
    "df = pd.read_csv('/Users/janicexu/shopdataset.csv')\n",
    "df"
   ]
  },
  {
   "cell_type": "code",
   "execution_count": 12,
   "id": "4a7188e1",
   "metadata": {
    "scrolled": false
   },
   "outputs": [
    {
     "data": {
      "text/html": [
       "<div>\n",
       "<style scoped>\n",
       "    .dataframe tbody tr th:only-of-type {\n",
       "        vertical-align: middle;\n",
       "    }\n",
       "\n",
       "    .dataframe tbody tr th {\n",
       "        vertical-align: top;\n",
       "    }\n",
       "\n",
       "    .dataframe thead th {\n",
       "        text-align: right;\n",
       "    }\n",
       "</style>\n",
       "<table border=\"1\" class=\"dataframe\">\n",
       "  <thead>\n",
       "    <tr style=\"text-align: right;\">\n",
       "      <th></th>\n",
       "      <th>order_amount</th>\n",
       "    </tr>\n",
       "  </thead>\n",
       "  <tbody>\n",
       "    <tr>\n",
       "      <th>count</th>\n",
       "      <td>5000.00</td>\n",
       "    </tr>\n",
       "    <tr>\n",
       "      <th>mean</th>\n",
       "      <td>3145.13</td>\n",
       "    </tr>\n",
       "    <tr>\n",
       "      <th>std</th>\n",
       "      <td>41282.54</td>\n",
       "    </tr>\n",
       "    <tr>\n",
       "      <th>min</th>\n",
       "      <td>90.00</td>\n",
       "    </tr>\n",
       "    <tr>\n",
       "      <th>25%</th>\n",
       "      <td>163.00</td>\n",
       "    </tr>\n",
       "    <tr>\n",
       "      <th>50%</th>\n",
       "      <td>284.00</td>\n",
       "    </tr>\n",
       "    <tr>\n",
       "      <th>75%</th>\n",
       "      <td>390.00</td>\n",
       "    </tr>\n",
       "    <tr>\n",
       "      <th>max</th>\n",
       "      <td>704000.00</td>\n",
       "    </tr>\n",
       "  </tbody>\n",
       "</table>\n",
       "</div>"
      ],
      "text/plain": [
       "       order_amount\n",
       "count       5000.00\n",
       "mean        3145.13\n",
       "std        41282.54\n",
       "min           90.00\n",
       "25%          163.00\n",
       "50%          284.00\n",
       "75%          390.00\n",
       "max       704000.00"
      ]
     },
     "execution_count": 12,
     "metadata": {},
     "output_type": "execute_result"
    }
   ],
   "source": [
    "# Descriptive statistics based on order amount \n",
    "round(df[['order_amount']].describe(),2)"
   ]
  },
  {
   "cell_type": "markdown",
   "id": "a244ab5b",
   "metadata": {},
   "source": [
    "When looking at the central tendencies available here, it looks like the mean, also known as the Average Order Value (AOV) is a lot higher than the other statistics. Given that we know sneakers are a relatively affordable item, it's safe to assume the real AOV would gravitate toward the median value of 284 rather than 3,145. The large AOV value indicates that the distribution of data is left skewed, thus we must look at the values in the upper range.\n",
    "\n",
    "<h3>Summary of Findings </h3>\n",
    "<li>The data includes outliers in the higher range that strongly affected mean</li>\n",
    "<li>The high standard deviation also indicates there is high variability</li>"
   ]
  },
  {
   "cell_type": "markdown",
   "id": "193b623d",
   "metadata": {},
   "source": [
    "<h2>1a) Think about what could be going wrong with our calculation. Think about a better way to evaluate this data. </h2>"
   ]
  },
  {
   "cell_type": "markdown",
   "id": "91910a82",
   "metadata": {},
   "source": [
    "<h3>1. Removing Outliers</h3>\n",
    "\n",
    "By first glance, it seems like there are 2 types of anomalies\n",
    "<ol>\n",
    "  <li>Wholesalers: Those who have bulk orders where they purchase multiple shoes in one order </li>\n",
    "  <li>Expensive Shoe Shops: Brands that may have luxury, or designer shoes with a higher price for a single quantity</li>\n",
    "</ol>"
   ]
  },
  {
   "cell_type": "markdown",
   "id": "9ab63132",
   "metadata": {},
   "source": [
    "<h3>1a. Wholesalers</h3>"
   ]
  },
  {
   "cell_type": "code",
   "execution_count": 25,
   "id": "b247e84a",
   "metadata": {
    "scrolled": true
   },
   "outputs": [
    {
     "data": {
      "text/html": [
       "<div>\n",
       "<style scoped>\n",
       "    .dataframe tbody tr th:only-of-type {\n",
       "        vertical-align: middle;\n",
       "    }\n",
       "\n",
       "    .dataframe tbody tr th {\n",
       "        vertical-align: top;\n",
       "    }\n",
       "\n",
       "    .dataframe thead th {\n",
       "        text-align: right;\n",
       "    }\n",
       "</style>\n",
       "<table border=\"1\" class=\"dataframe\">\n",
       "  <thead>\n",
       "    <tr style=\"text-align: right;\">\n",
       "      <th></th>\n",
       "      <th>count</th>\n",
       "    </tr>\n",
       "    <tr>\n",
       "      <th>total_items</th>\n",
       "      <th></th>\n",
       "    </tr>\n",
       "  </thead>\n",
       "  <tbody>\n",
       "    <tr>\n",
       "      <th>2000</th>\n",
       "      <td>17</td>\n",
       "    </tr>\n",
       "    <tr>\n",
       "      <th>8</th>\n",
       "      <td>1</td>\n",
       "    </tr>\n",
       "    <tr>\n",
       "      <th>6</th>\n",
       "      <td>9</td>\n",
       "    </tr>\n",
       "    <tr>\n",
       "      <th>5</th>\n",
       "      <td>77</td>\n",
       "    </tr>\n",
       "    <tr>\n",
       "      <th>4</th>\n",
       "      <td>293</td>\n",
       "    </tr>\n",
       "    <tr>\n",
       "      <th>3</th>\n",
       "      <td>941</td>\n",
       "    </tr>\n",
       "  </tbody>\n",
       "</table>\n",
       "</div>"
      ],
      "text/plain": [
       "             count\n",
       "total_items       \n",
       "2000            17\n",
       "8                1\n",
       "6                9\n",
       "5               77\n",
       "4              293\n",
       "3              941"
      ]
     },
     "execution_count": 25,
     "metadata": {},
     "output_type": "execute_result"
    }
   ],
   "source": [
    "# Group by total items and count how many times that number of items was purchased\n",
    "counter = df.groupby(['total_items']).size().to_frame('count').sort_values(['total_items'], ascending =[False])\n",
    "counter.head(6)"
   ]
  },
  {
   "cell_type": "markdown",
   "id": "07ee4fdd",
   "metadata": {},
   "source": [
    "<h3>1a. Identifying The Shop </h3>"
   ]
  },
  {
   "cell_type": "code",
   "execution_count": 37,
   "id": "8af0eae0",
   "metadata": {},
   "outputs": [
    {
     "data": {
      "text/plain": [
       "array([42])"
      ]
     },
     "execution_count": 37,
     "metadata": {},
     "output_type": "execute_result"
    }
   ],
   "source": [
    "# Observing which shop contributes to the highest total items\n",
    "df[df.total_items == 2000].shop_id.unique()"
   ]
  },
  {
   "cell_type": "markdown",
   "id": "217028cb",
   "metadata": {},
   "source": [
    "Shop 42 looks like the contributor of 2000 total items per order. However, we must also look at the transactions associated with the shop to draw further conclusions"
   ]
  },
  {
   "cell_type": "markdown",
   "id": "402434e4",
   "metadata": {},
   "source": [
    "<h3>1a. Identifying The User </h3>"
   ]
  },
  {
   "cell_type": "code",
   "execution_count": 44,
   "id": "8a2b3de5",
   "metadata": {},
   "outputs": [
    {
     "data": {
      "text/html": [
       "<div>\n",
       "<style scoped>\n",
       "    .dataframe tbody tr th:only-of-type {\n",
       "        vertical-align: middle;\n",
       "    }\n",
       "\n",
       "    .dataframe tbody tr th {\n",
       "        vertical-align: top;\n",
       "    }\n",
       "\n",
       "    .dataframe thead th {\n",
       "        text-align: right;\n",
       "    }\n",
       "</style>\n",
       "<table border=\"1\" class=\"dataframe\">\n",
       "  <thead>\n",
       "    <tr style=\"text-align: right;\">\n",
       "      <th></th>\n",
       "      <th>order_id</th>\n",
       "      <th>shop_id</th>\n",
       "      <th>user_id</th>\n",
       "      <th>order_amount</th>\n",
       "      <th>total_items</th>\n",
       "      <th>payment_method</th>\n",
       "      <th>created_at</th>\n",
       "    </tr>\n",
       "  </thead>\n",
       "  <tbody>\n",
       "    <tr>\n",
       "      <th>2835</th>\n",
       "      <td>2836</td>\n",
       "      <td>42</td>\n",
       "      <td>607</td>\n",
       "      <td>704000</td>\n",
       "      <td>2000</td>\n",
       "      <td>credit_card</td>\n",
       "      <td>2017-03-28 4:00:00</td>\n",
       "    </tr>\n",
       "    <tr>\n",
       "      <th>4056</th>\n",
       "      <td>4057</td>\n",
       "      <td>42</td>\n",
       "      <td>607</td>\n",
       "      <td>704000</td>\n",
       "      <td>2000</td>\n",
       "      <td>credit_card</td>\n",
       "      <td>2017-03-28 4:00:00</td>\n",
       "    </tr>\n",
       "    <tr>\n",
       "      <th>2969</th>\n",
       "      <td>2970</td>\n",
       "      <td>42</td>\n",
       "      <td>607</td>\n",
       "      <td>704000</td>\n",
       "      <td>2000</td>\n",
       "      <td>credit_card</td>\n",
       "      <td>2017-03-28 4:00:00</td>\n",
       "    </tr>\n",
       "    <tr>\n",
       "      <th>4882</th>\n",
       "      <td>4883</td>\n",
       "      <td>42</td>\n",
       "      <td>607</td>\n",
       "      <td>704000</td>\n",
       "      <td>2000</td>\n",
       "      <td>credit_card</td>\n",
       "      <td>2017-03-25 4:00:00</td>\n",
       "    </tr>\n",
       "    <tr>\n",
       "      <th>1104</th>\n",
       "      <td>1105</td>\n",
       "      <td>42</td>\n",
       "      <td>607</td>\n",
       "      <td>704000</td>\n",
       "      <td>2000</td>\n",
       "      <td>credit_card</td>\n",
       "      <td>2017-03-24 4:00:00</td>\n",
       "    </tr>\n",
       "    <tr>\n",
       "      <th>3332</th>\n",
       "      <td>3333</td>\n",
       "      <td>42</td>\n",
       "      <td>607</td>\n",
       "      <td>704000</td>\n",
       "      <td>2000</td>\n",
       "      <td>credit_card</td>\n",
       "      <td>2017-03-24 4:00:00</td>\n",
       "    </tr>\n",
       "    <tr>\n",
       "      <th>4868</th>\n",
       "      <td>4869</td>\n",
       "      <td>42</td>\n",
       "      <td>607</td>\n",
       "      <td>704000</td>\n",
       "      <td>2000</td>\n",
       "      <td>credit_card</td>\n",
       "      <td>2017-03-22 4:00:00</td>\n",
       "    </tr>\n",
       "    <tr>\n",
       "      <th>1562</th>\n",
       "      <td>1563</td>\n",
       "      <td>42</td>\n",
       "      <td>607</td>\n",
       "      <td>704000</td>\n",
       "      <td>2000</td>\n",
       "      <td>credit_card</td>\n",
       "      <td>2017-03-19 4:00:00</td>\n",
       "    </tr>\n",
       "    <tr>\n",
       "      <th>1602</th>\n",
       "      <td>1603</td>\n",
       "      <td>42</td>\n",
       "      <td>607</td>\n",
       "      <td>704000</td>\n",
       "      <td>2000</td>\n",
       "      <td>credit_card</td>\n",
       "      <td>2017-03-17 4:00:00</td>\n",
       "    </tr>\n",
       "    <tr>\n",
       "      <th>1362</th>\n",
       "      <td>1363</td>\n",
       "      <td>42</td>\n",
       "      <td>607</td>\n",
       "      <td>704000</td>\n",
       "      <td>2000</td>\n",
       "      <td>credit_card</td>\n",
       "      <td>2017-03-15 4:00:00</td>\n",
       "    </tr>\n",
       "  </tbody>\n",
       "</table>\n",
       "</div>"
      ],
      "text/plain": [
       "      order_id  shop_id  user_id  order_amount  total_items payment_method  \\\n",
       "2835      2836       42      607        704000         2000    credit_card   \n",
       "4056      4057       42      607        704000         2000    credit_card   \n",
       "2969      2970       42      607        704000         2000    credit_card   \n",
       "4882      4883       42      607        704000         2000    credit_card   \n",
       "1104      1105       42      607        704000         2000    credit_card   \n",
       "3332      3333       42      607        704000         2000    credit_card   \n",
       "4868      4869       42      607        704000         2000    credit_card   \n",
       "1562      1563       42      607        704000         2000    credit_card   \n",
       "1602      1603       42      607        704000         2000    credit_card   \n",
       "1362      1363       42      607        704000         2000    credit_card   \n",
       "\n",
       "              created_at  \n",
       "2835  2017-03-28 4:00:00  \n",
       "4056  2017-03-28 4:00:00  \n",
       "2969  2017-03-28 4:00:00  \n",
       "4882  2017-03-25 4:00:00  \n",
       "1104  2017-03-24 4:00:00  \n",
       "3332  2017-03-24 4:00:00  \n",
       "4868  2017-03-22 4:00:00  \n",
       "1562  2017-03-19 4:00:00  \n",
       "1602  2017-03-17 4:00:00  \n",
       "1362  2017-03-15 4:00:00  "
      ]
     },
     "execution_count": 44,
     "metadata": {},
     "output_type": "execute_result"
    }
   ],
   "source": [
    "# Identifying the orders with 2000 total items and sorting them\n",
    "df[(df.total_items==2000)].sort_values(['created_at'], ascending = [False]).head(10)"
   ]
  },
  {
   "cell_type": "markdown",
   "id": "4d6f4793",
   "metadata": {},
   "source": [
    "When sorted by date created, we can see that there are some orders created at the exact same time up (including the minutes and seconds), as well as by the same user. An assumption that could be made is that there may have been 1) multiple orders placed through an automated system or 2) the orders were duplicated. However, the order id is distinct so we will go with the first assumption."
   ]
  },
  {
   "cell_type": "code",
   "execution_count": 42,
   "id": "51e642f7",
   "metadata": {},
   "outputs": [
    {
     "data": {
      "text/html": [
       "<div>\n",
       "<style scoped>\n",
       "    .dataframe tbody tr th:only-of-type {\n",
       "        vertical-align: middle;\n",
       "    }\n",
       "\n",
       "    .dataframe tbody tr th {\n",
       "        vertical-align: top;\n",
       "    }\n",
       "\n",
       "    .dataframe thead th {\n",
       "        text-align: right;\n",
       "    }\n",
       "</style>\n",
       "<table border=\"1\" class=\"dataframe\">\n",
       "  <thead>\n",
       "    <tr style=\"text-align: right;\">\n",
       "      <th></th>\n",
       "      <th>order_id</th>\n",
       "      <th>shop_id</th>\n",
       "      <th>user_id</th>\n",
       "      <th>order_amount</th>\n",
       "      <th>total_items</th>\n",
       "      <th>payment_method</th>\n",
       "      <th>created_at</th>\n",
       "    </tr>\n",
       "  </thead>\n",
       "  <tbody>\n",
       "    <tr>\n",
       "      <th>15</th>\n",
       "      <td>16</td>\n",
       "      <td>42</td>\n",
       "      <td>607</td>\n",
       "      <td>704000</td>\n",
       "      <td>2000</td>\n",
       "      <td>credit_card</td>\n",
       "      <td>2017-03-07 4:00:00</td>\n",
       "    </tr>\n",
       "    <tr>\n",
       "      <th>40</th>\n",
       "      <td>41</td>\n",
       "      <td>42</td>\n",
       "      <td>793</td>\n",
       "      <td>352</td>\n",
       "      <td>1</td>\n",
       "      <td>credit_card</td>\n",
       "      <td>2017-03-24 14:15:41</td>\n",
       "    </tr>\n",
       "    <tr>\n",
       "      <th>60</th>\n",
       "      <td>61</td>\n",
       "      <td>42</td>\n",
       "      <td>607</td>\n",
       "      <td>704000</td>\n",
       "      <td>2000</td>\n",
       "      <td>credit_card</td>\n",
       "      <td>2017-03-04 4:00:00</td>\n",
       "    </tr>\n",
       "    <tr>\n",
       "      <th>308</th>\n",
       "      <td>309</td>\n",
       "      <td>42</td>\n",
       "      <td>770</td>\n",
       "      <td>352</td>\n",
       "      <td>1</td>\n",
       "      <td>credit_card</td>\n",
       "      <td>2017-03-11 18:14:39</td>\n",
       "    </tr>\n",
       "    <tr>\n",
       "      <th>409</th>\n",
       "      <td>410</td>\n",
       "      <td>42</td>\n",
       "      <td>904</td>\n",
       "      <td>704</td>\n",
       "      <td>2</td>\n",
       "      <td>credit_card</td>\n",
       "      <td>2017-03-04 14:32:58</td>\n",
       "    </tr>\n",
       "  </tbody>\n",
       "</table>\n",
       "</div>"
      ],
      "text/plain": [
       "     order_id  shop_id  user_id  order_amount  total_items payment_method  \\\n",
       "15         16       42      607        704000         2000    credit_card   \n",
       "40         41       42      793           352            1    credit_card   \n",
       "60         61       42      607        704000         2000    credit_card   \n",
       "308       309       42      770           352            1    credit_card   \n",
       "409       410       42      904           704            2    credit_card   \n",
       "\n",
       "              created_at  \n",
       "15    2017-03-07 4:00:00  \n",
       "40   2017-03-24 14:15:41  \n",
       "60    2017-03-04 4:00:00  \n",
       "308  2017-03-11 18:14:39  \n",
       "409  2017-03-04 14:32:58  "
      ]
     },
     "execution_count": 42,
     "metadata": {},
     "output_type": "execute_result"
    }
   ],
   "source": [
    "df[df['shop_id']==42].head()"
   ]
  },
  {
   "cell_type": "markdown",
   "id": "b26af7dd",
   "metadata": {},
   "source": [
    "Other transactions from the store are not all bulk sales. Although this is the case, we will remove the entire shop as we cannot control where consumers buy in bulk."
   ]
  },
  {
   "cell_type": "markdown",
   "id": "ba54cb41",
   "metadata": {},
   "source": [
    "<h3>1b. Expensive Shoe Shops</h3>"
   ]
  },
  {
   "cell_type": "code",
   "execution_count": 46,
   "id": "97c4f0f5",
   "metadata": {},
   "outputs": [
    {
     "data": {
      "text/html": [
       "<div>\n",
       "<style scoped>\n",
       "    .dataframe tbody tr th:only-of-type {\n",
       "        vertical-align: middle;\n",
       "    }\n",
       "\n",
       "    .dataframe tbody tr th {\n",
       "        vertical-align: top;\n",
       "    }\n",
       "\n",
       "    .dataframe thead th {\n",
       "        text-align: right;\n",
       "    }\n",
       "</style>\n",
       "<table border=\"1\" class=\"dataframe\">\n",
       "  <thead>\n",
       "    <tr style=\"text-align: right;\">\n",
       "      <th></th>\n",
       "      <th>count</th>\n",
       "    </tr>\n",
       "    <tr>\n",
       "      <th>order_amount</th>\n",
       "      <th></th>\n",
       "    </tr>\n",
       "  </thead>\n",
       "  <tbody>\n",
       "    <tr>\n",
       "      <th>704000</th>\n",
       "      <td>17</td>\n",
       "    </tr>\n",
       "    <tr>\n",
       "      <th>154350</th>\n",
       "      <td>1</td>\n",
       "    </tr>\n",
       "    <tr>\n",
       "      <th>102900</th>\n",
       "      <td>1</td>\n",
       "    </tr>\n",
       "    <tr>\n",
       "      <th>77175</th>\n",
       "      <td>9</td>\n",
       "    </tr>\n",
       "    <tr>\n",
       "      <th>51450</th>\n",
       "      <td>16</td>\n",
       "    </tr>\n",
       "    <tr>\n",
       "      <th>25725</th>\n",
       "      <td>19</td>\n",
       "    </tr>\n",
       "  </tbody>\n",
       "</table>\n",
       "</div>"
      ],
      "text/plain": [
       "              count\n",
       "order_amount       \n",
       "704000           17\n",
       "154350            1\n",
       "102900            1\n",
       "77175             9\n",
       "51450            16\n",
       "25725            19"
      ]
     },
     "execution_count": 46,
     "metadata": {},
     "output_type": "execute_result"
    }
   ],
   "source": [
    "# Counting how many times the highest order amounts were placed \n",
    "counter = df.groupby(['order_amount']).size().to_frame('count').sort_values(['order_amount'], ascending =[False])\n",
    "counter.head(6)"
   ]
  },
  {
   "cell_type": "markdown",
   "id": "9ce2eeee",
   "metadata": {},
   "source": [
    "We know from previous analysis that the highest order amount was from a single shop with multiple bulk orders. However, It looks like there is a high order amount with a single item. Therefore, there may be shops with high prices that are influencing the AOV. We will determine this by finding the price of a single item where total_items = 1."
   ]
  },
  {
   "cell_type": "markdown",
   "id": "cac8452a",
   "metadata": {},
   "source": [
    "<h3>1b. Single Order Values</h3>"
   ]
  },
  {
   "cell_type": "code",
   "execution_count": 52,
   "id": "4f178982",
   "metadata": {},
   "outputs": [
    {
     "data": {
      "text/html": [
       "<div>\n",
       "<style scoped>\n",
       "    .dataframe tbody tr th:only-of-type {\n",
       "        vertical-align: middle;\n",
       "    }\n",
       "\n",
       "    .dataframe tbody tr th {\n",
       "        vertical-align: top;\n",
       "    }\n",
       "\n",
       "    .dataframe thead th {\n",
       "        text-align: right;\n",
       "    }\n",
       "</style>\n",
       "<table border=\"1\" class=\"dataframe\">\n",
       "  <thead>\n",
       "    <tr style=\"text-align: right;\">\n",
       "      <th></th>\n",
       "      <th>order_id</th>\n",
       "      <th>shop_id</th>\n",
       "      <th>user_id</th>\n",
       "      <th>order_amount</th>\n",
       "      <th>total_items</th>\n",
       "      <th>payment_method</th>\n",
       "      <th>created_at</th>\n",
       "      <th>single_orders</th>\n",
       "    </tr>\n",
       "  </thead>\n",
       "  <tbody>\n",
       "    <tr>\n",
       "      <th>4420</th>\n",
       "      <td>4421</td>\n",
       "      <td>78</td>\n",
       "      <td>969</td>\n",
       "      <td>77175</td>\n",
       "      <td>3</td>\n",
       "      <td>debit</td>\n",
       "      <td>2017-03-09 15:21:35</td>\n",
       "      <td>25725.0</td>\n",
       "    </tr>\n",
       "    <tr>\n",
       "      <th>2906</th>\n",
       "      <td>2907</td>\n",
       "      <td>78</td>\n",
       "      <td>817</td>\n",
       "      <td>77175</td>\n",
       "      <td>3</td>\n",
       "      <td>debit</td>\n",
       "      <td>2017-03-16 3:45:46</td>\n",
       "      <td>25725.0</td>\n",
       "    </tr>\n",
       "    <tr>\n",
       "      <th>4505</th>\n",
       "      <td>4506</td>\n",
       "      <td>78</td>\n",
       "      <td>866</td>\n",
       "      <td>25725</td>\n",
       "      <td>1</td>\n",
       "      <td>debit</td>\n",
       "      <td>2017-03-22 22:06:01</td>\n",
       "      <td>25725.0</td>\n",
       "    </tr>\n",
       "    <tr>\n",
       "      <th>493</th>\n",
       "      <td>494</td>\n",
       "      <td>78</td>\n",
       "      <td>983</td>\n",
       "      <td>51450</td>\n",
       "      <td>2</td>\n",
       "      <td>cash</td>\n",
       "      <td>2017-03-16 21:39:35</td>\n",
       "      <td>25725.0</td>\n",
       "    </tr>\n",
       "    <tr>\n",
       "      <th>2452</th>\n",
       "      <td>2453</td>\n",
       "      <td>78</td>\n",
       "      <td>709</td>\n",
       "      <td>51450</td>\n",
       "      <td>2</td>\n",
       "      <td>cash</td>\n",
       "      <td>2017-03-27 11:04:04</td>\n",
       "      <td>25725.0</td>\n",
       "    </tr>\n",
       "  </tbody>\n",
       "</table>\n",
       "</div>"
      ],
      "text/plain": [
       "      order_id  shop_id  user_id  order_amount  total_items payment_method  \\\n",
       "4420      4421       78      969         77175            3          debit   \n",
       "2906      2907       78      817         77175            3          debit   \n",
       "4505      4506       78      866         25725            1          debit   \n",
       "493        494       78      983         51450            2           cash   \n",
       "2452      2453       78      709         51450            2           cash   \n",
       "\n",
       "               created_at  single_orders  \n",
       "4420  2017-03-09 15:21:35        25725.0  \n",
       "2906   2017-03-16 3:45:46        25725.0  \n",
       "4505  2017-03-22 22:06:01        25725.0  \n",
       "493   2017-03-16 21:39:35        25725.0  \n",
       "2452  2017-03-27 11:04:04        25725.0  "
      ]
     },
     "execution_count": 52,
     "metadata": {},
     "output_type": "execute_result"
    }
   ],
   "source": [
    "# Calculating the price for a single quantity\n",
    "df['single_orders'] = df['order_amount'] / df['total_items']\n",
    "df.sort_values(['single_orders'], ascending =[False]).head()"
   ]
  },
  {
   "cell_type": "markdown",
   "id": "7ac7924f",
   "metadata": {},
   "source": [
    "It now looks like shop 78 orders are extremely high because of the expensive price PER item. Compared to the initial median we had of $284, this single order value is astronomical! To check this further, let's compare the single order value of top shops."
   ]
  },
  {
   "cell_type": "code",
   "execution_count": 59,
   "id": "e7c074c3",
   "metadata": {},
   "outputs": [
    {
     "data": {
      "text/html": [
       "<div>\n",
       "<style scoped>\n",
       "    .dataframe tbody tr th:only-of-type {\n",
       "        vertical-align: middle;\n",
       "    }\n",
       "\n",
       "    .dataframe tbody tr th {\n",
       "        vertical-align: top;\n",
       "    }\n",
       "\n",
       "    .dataframe thead th {\n",
       "        text-align: right;\n",
       "    }\n",
       "</style>\n",
       "<table border=\"1\" class=\"dataframe\">\n",
       "  <thead>\n",
       "    <tr style=\"text-align: right;\">\n",
       "      <th></th>\n",
       "      <th>shop_id</th>\n",
       "      <th>single_orders</th>\n",
       "    </tr>\n",
       "  </thead>\n",
       "  <tbody>\n",
       "    <tr>\n",
       "      <th>77</th>\n",
       "      <td>78</td>\n",
       "      <td>25725.0</td>\n",
       "    </tr>\n",
       "    <tr>\n",
       "      <th>41</th>\n",
       "      <td>42</td>\n",
       "      <td>352.0</td>\n",
       "    </tr>\n",
       "    <tr>\n",
       "      <th>11</th>\n",
       "      <td>12</td>\n",
       "      <td>201.0</td>\n",
       "    </tr>\n",
       "    <tr>\n",
       "      <th>88</th>\n",
       "      <td>89</td>\n",
       "      <td>196.0</td>\n",
       "    </tr>\n",
       "    <tr>\n",
       "      <th>98</th>\n",
       "      <td>99</td>\n",
       "      <td>195.0</td>\n",
       "    </tr>\n",
       "  </tbody>\n",
       "</table>\n",
       "</div>"
      ],
      "text/plain": [
       "    shop_id  single_orders\n",
       "77       78        25725.0\n",
       "41       42          352.0\n",
       "11       12          201.0\n",
       "88       89          196.0\n",
       "98       99          195.0"
      ]
     },
     "execution_count": 59,
     "metadata": {},
     "output_type": "execute_result"
    }
   ],
   "source": [
    "# Looking for which shop has the highest single quantity value\n",
    "df_group = df.groupby(['shop_id'])['single_orders'].mean().reset_index().sort_values(['single_orders'], ascending =[False])\n",
    "df_group.head()"
   ]
  },
  {
   "cell_type": "markdown",
   "id": "1e6c1574",
   "metadata": {},
   "source": [
    "Thus, it looks like shop 78 seems to be the one shop with a very high single item price and is pushing the AOV up."
   ]
  },
  {
   "cell_type": "markdown",
   "id": "458a6660",
   "metadata": {},
   "source": [
    "<h3>1c. Removing Outliers</h3>\n",
    "As shown above, we have found reason to remove shop 78 and 42 so we can do so and recalculate our AOV."
   ]
  },
  {
   "cell_type": "code",
   "execution_count": 9,
   "id": "b23714f7",
   "metadata": {},
   "outputs": [
    {
     "data": {
      "text/plain": [
       "300.16"
      ]
     },
     "execution_count": 9,
     "metadata": {},
     "output_type": "execute_result"
    }
   ],
   "source": [
    "# Removing shops 42 and 78\n",
    "fixed_AOV = df[(df.shop_id!=42) & (df.shop_id!=78)]\n",
    "round(fixed_AOV['order_amount'].mean(),2)"
   ]
  },
  {
   "cell_type": "markdown",
   "id": "e694935f",
   "metadata": {},
   "source": [
    "<h3>1d. Data Visualization</h3>"
   ]
  },
  {
   "cell_type": "code",
   "execution_count": 71,
   "id": "478e3d32",
   "metadata": {},
   "outputs": [
    {
     "data": {
      "image/png": "[encoded data removed]",
      "text/plain": [
       "<Figure size 432x288 with 1 Axes>"
      ]
     },
     "metadata": {
      "needs_background": "light"
     },
     "output_type": "display_data"
    }
   ],
   "source": [
    "# Creating a boxplot of the entire data set \n",
    "ax = sns.boxplot(x=df['order_amount'])"
   ]
  },
  {
   "cell_type": "code",
   "execution_count": 70,
   "id": "8e7a9423",
   "metadata": {},
   "outputs": [
    {
     "data": {
      "image/png": "[encoded data removed]",
      "text/plain": [
       "<Figure size 432x288 with 1 Axes>"
      ]
     },
     "metadata": {
      "needs_background": "light"
     },
     "output_type": "display_data"
    }
   ],
   "source": [
    "# Creating a boxplot with shops 42 and 78 removed\n",
    "ay = sns.boxplot(x=fixed_AOV['order_amount'])"
   ]
  },
  {
   "cell_type": "markdown",
   "id": "368b2a4e",
   "metadata": {},
   "source": [
    "As seen above, the entire data set includes values that are way too large in comparison to the rest of the data. Once the data points that are too large are taken out, the boxplot can be seen."
   ]
  },
  {
   "cell_type": "markdown",
   "id": "27335e31",
   "metadata": {
    "scrolled": true
   },
   "source": [
    "<h3>1f. Final Calculation</h3>"
   ]
  },
  {
   "cell_type": "code",
   "execution_count": 11,
   "id": "bda0db8d",
   "metadata": {},
   "outputs": [
    {
     "data": {
      "text/html": [
       "<div>\n",
       "<style scoped>\n",
       "    .dataframe tbody tr th:only-of-type {\n",
       "        vertical-align: middle;\n",
       "    }\n",
       "\n",
       "    .dataframe tbody tr th {\n",
       "        vertical-align: top;\n",
       "    }\n",
       "\n",
       "    .dataframe thead th {\n",
       "        text-align: right;\n",
       "    }\n",
       "</style>\n",
       "<table border=\"1\" class=\"dataframe\">\n",
       "  <thead>\n",
       "    <tr style=\"text-align: right;\">\n",
       "      <th></th>\n",
       "      <th>order_amount</th>\n",
       "    </tr>\n",
       "  </thead>\n",
       "  <tbody>\n",
       "    <tr>\n",
       "      <th>count</th>\n",
       "      <td>4903.00</td>\n",
       "    </tr>\n",
       "    <tr>\n",
       "      <th>mean</th>\n",
       "      <td>300.16</td>\n",
       "    </tr>\n",
       "    <tr>\n",
       "      <th>std</th>\n",
       "      <td>155.94</td>\n",
       "    </tr>\n",
       "    <tr>\n",
       "      <th>min</th>\n",
       "      <td>90.00</td>\n",
       "    </tr>\n",
       "    <tr>\n",
       "      <th>25%</th>\n",
       "      <td>163.00</td>\n",
       "    </tr>\n",
       "    <tr>\n",
       "      <th>50%</th>\n",
       "      <td>284.00</td>\n",
       "    </tr>\n",
       "    <tr>\n",
       "      <th>75%</th>\n",
       "      <td>386.50</td>\n",
       "    </tr>\n",
       "    <tr>\n",
       "      <th>max</th>\n",
       "      <td>1086.00</td>\n",
       "    </tr>\n",
       "  </tbody>\n",
       "</table>\n",
       "</div>"
      ],
      "text/plain": [
       "       order_amount\n",
       "count       4903.00\n",
       "mean         300.16\n",
       "std          155.94\n",
       "min           90.00\n",
       "25%          163.00\n",
       "50%          284.00\n",
       "75%          386.50\n",
       "max         1086.00"
      ]
     },
     "execution_count": 11,
     "metadata": {},
     "output_type": "execute_result"
    }
   ],
   "source": [
    "round(fixed_AOV[['order_amount']].describe(),2)"
   ]
  },
  {
   "cell_type": "markdown",
   "id": "3e2789cc",
   "metadata": {},
   "source": [
    "It looks like the median values from the filtered dataset and original data set are the same at 284. This is expected as medians are not affected by outliers in a large dataset. This compares much more to the mean of 300. Therefore, when looking at data sets it is important to evaluate outliers as they can change mean values a great deal."
   ]
  },
  {
   "cell_type": "markdown",
   "id": "2271171a",
   "metadata": {},
   "source": [
    "<h2>1b) What metric would you report for this dataset?</h2>"
   ]
  },
  {
   "cell_type": "markdown",
   "id": "aea5407c",
   "metadata": {},
   "source": [
    "Central tendencies are great to describe a set of data by identifying its central position in the data set. Given that this data set included outliers as discussed previously, it is worthwhile to eliminate them in order to use AOV (mean). However, at initial glance, in a situation where outliers could not be removed (too expensive, too much data, etc.), we are able to look at quartiles, where median (50%) would be a sufficient metric. "
   ]
  },
  {
   "cell_type": "markdown",
   "id": "4a475f86",
   "metadata": {},
   "source": [
    "<h2>1c) What is its value?</h2>"
   ]
  },
  {
   "cell_type": "code",
   "execution_count": 13,
   "id": "dbe38b1e",
   "metadata": {},
   "outputs": [
    {
     "data": {
      "text/plain": [
       "284.0"
      ]
     },
     "execution_count": 13,
     "metadata": {},
     "output_type": "execute_result"
    }
   ],
   "source": [
    "df['order_amount'].median()"
   ]
  },
  {
   "cell_type": "markdown",
   "id": "04d94d43",
   "metadata": {},
   "source": [
    "Therefore, the median of the original data set is 284!"
   ]
  },
  {
   "cell_type": "code",
   "execution_count": 40,
   "id": "b44ff02d",
   "metadata": {},
   "outputs": [
    {
     "data": {
      "image/png": "[encoded data removed]",
      "text/plain": [
       "<IPython.core.display.Image object>"
      ]
     },
     "execution_count": 40,
     "metadata": {},
     "output_type": "execute_result"
    }
   ],
   "source": [
    "from IPython import display\n",
    "display.Image('/Users/janicexu/Q2_SQL.png')"
   ]
  }
 ],
 "metadata": {
  "kernelspec": {
   "display_name": "Python 3 (ipykernel)",
   "language": "python",
   "name": "python3"
  },
  "language_info": {
   "codemirror_mode": {
    "name": "ipython",
    "version": 3
   },
   "file_extension": ".py",
   "mimetype": "text/x-python",
   "name": "python",
   "nbconvert_exporter": "python",
   "pygments_lexer": "ipython3",
   "version": "3.8.3"
  }
 },
 "nbformat": 4,
 "nbformat_minor": 5
}
